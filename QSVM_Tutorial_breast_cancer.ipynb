{
 "cells": [
  {
   "cell_type": "code",
   "execution_count": 1,
   "metadata": {},
   "outputs": [],
   "source": [
    "import numpy as np\n",
    "import matplotlib.pyplot as plt\n",
    "from qiskit.ml.datasets import *\n",
    "from qiskit import BasicAer\n",
    "from qiskit.aqua import run_algorithm, QuantumInstance\n",
    "from qiskit.aqua.input import ClassificationInput\n",
    "from qiskit.aqua.components.feature_maps import SecondOrderExpansion\n",
    "from qiskit.aqua.algorithms import QSVM\n",
    "from qiskit.aqua.utils import split_dataset_to_data_and_labels, map_label_to_class_name"
   ]
  },
  {
   "cell_type": "code",
   "execution_count": 2,
   "metadata": {},
   "outputs": [],
   "source": [
    "from qiskit import IBMQ\n",
    "import warnings\n",
    "\n",
    "def fxn():\n",
    "    warnings.warn(\"deprecated\", DeprecationWarning)\n",
    "\n",
    "with warnings.catch_warnings():\n",
    "    warnings.simplefilter(\"ignore\")\n",
    "    fxn()"
   ]
  },
  {
   "cell_type": "code",
   "execution_count": 3,
   "metadata": {},
   "outputs": [
    {
     "data": {
      "text/plain": [
       "<AccountProvider for IBMQ(hub='ibm-q', group='open', project='main')>"
      ]
     },
     "execution_count": 3,
     "metadata": {},
     "output_type": "execute_result"
    }
   ],
   "source": [
    "IBMQ.load_account()"
   ]
  },
  {
   "cell_type": "code",
   "execution_count": 4,
   "metadata": {},
   "outputs": [
    {
     "data": {
      "image/png": "[encoded data removed]",
      "text/plain": [
       "<Figure size 432x288 with 1 Axes>"
      ]
     },
     "metadata": {
      "needs_background": "light"
     },
     "output_type": "display_data"
    },
    {
     "name": "stdout",
     "output_type": "stream",
     "text": [
      "{'A': 0, 'B': 1}\n"
     ]
    },
    {
     "name": "stderr",
     "output_type": "stream",
     "text": [
      "C:\\ProgramData\\Anaconda3\\lib\\site-packages\\qiskit\\aqua\\operators\\common.py:258: DeprecationWarning: The Pauli.numberofqubits method is deprecated as of 0.13.0, and will be removed no earlier than 3 months after that release date. You should use the Pauli.num_qubits method instead.\n",
      "  state_registers = QuantumRegister(pauli_list[0][1].numberofqubits)\n",
      "C:\\ProgramData\\Anaconda3\\lib\\site-packages\\qiskit\\aqua\\operators\\common.py:273: DeprecationWarning: The Pauli.numberofqubits method is deprecated as of 0.13.0, and will be removed no earlier than 3 months after that release date. You should use the Pauli.num_qubits method instead.\n",
      "  n_qubits = pauli[1].numberofqubits\n",
      "C:\\ProgramData\\Anaconda3\\lib\\site-packages\\qiskit\\aqua\\operators\\common.py:258: DeprecationWarning: The Pauli.numberofqubits method is deprecated as of 0.13.0, and will be removed no earlier than 3 months after that release date. You should use the Pauli.num_qubits method instead.\n",
      "  state_registers = QuantumRegister(pauli_list[0][1].numberofqubits)\n",
      "C:\\ProgramData\\Anaconda3\\lib\\site-packages\\qiskit\\aqua\\operators\\common.py:273: DeprecationWarning: The Pauli.numberofqubits method is deprecated as of 0.13.0, and will be removed no earlier than 3 months after that release date. You should use the Pauli.num_qubits method instead.\n",
      "  n_qubits = pauli[1].numberofqubits\n",
      "C:\\ProgramData\\Anaconda3\\lib\\site-packages\\qiskit\\aqua\\operators\\common.py:258: DeprecationWarning: The Pauli.numberofqubits method is deprecated as of 0.13.0, and will be removed no earlier than 3 months after that release date. You should use the Pauli.num_qubits method instead.\n",
      "  state_registers = QuantumRegister(pauli_list[0][1].numberofqubits)\n",
      "C:\\ProgramData\\Anaconda3\\lib\\site-packages\\qiskit\\aqua\\operators\\common.py:273: DeprecationWarning: The Pauli.numberofqubits method is deprecated as of 0.13.0, and will be removed no earlier than 3 months after that release date. You should use the Pauli.num_qubits method instead.\n",
      "  n_qubits = pauli[1].numberofqubits\n",
      "C:\\ProgramData\\Anaconda3\\lib\\site-packages\\qiskit\\aqua\\operators\\common.py:258: DeprecationWarning: The Pauli.numberofqubits method is deprecated as of 0.13.0, and will be removed no earlier than 3 months after that release date. You should use the Pauli.num_qubits method instead.\n",
      "  state_registers = QuantumRegister(pauli_list[0][1].numberofqubits)\n",
      "C:\\ProgramData\\Anaconda3\\lib\\site-packages\\qiskit\\aqua\\operators\\common.py:273: DeprecationWarning: The Pauli.numberofqubits method is deprecated as of 0.13.0, and will be removed no earlier than 3 months after that release date. You should use the Pauli.num_qubits method instead.\n",
      "  n_qubits = pauli[1].numberofqubits\n",
      "C:\\ProgramData\\Anaconda3\\lib\\site-packages\\qiskit\\aqua\\operators\\common.py:258: DeprecationWarning: The Pauli.numberofqubits method is deprecated as of 0.13.0, and will be removed no earlier than 3 months after that release date. You should use the Pauli.num_qubits method instead.\n",
      "  state_registers = QuantumRegister(pauli_list[0][1].numberofqubits)\n",
      "C:\\ProgramData\\Anaconda3\\lib\\site-packages\\qiskit\\aqua\\operators\\common.py:273: DeprecationWarning: The Pauli.numberofqubits method is deprecated as of 0.13.0, and will be removed no earlier than 3 months after that release date. You should use the Pauli.num_qubits method instead.\n",
      "  n_qubits = pauli[1].numberofqubits\n",
      "C:\\ProgramData\\Anaconda3\\lib\\site-packages\\qiskit\\aqua\\operators\\common.py:258: DeprecationWarning: The Pauli.numberofqubits method is deprecated as of 0.13.0, and will be removed no earlier than 3 months after that release date. You should use the Pauli.num_qubits method instead.\n",
      "  state_registers = QuantumRegister(pauli_list[0][1].numberofqubits)\n",
      "C:\\ProgramData\\Anaconda3\\lib\\site-packages\\qiskit\\aqua\\operators\\common.py:273: DeprecationWarning: The Pauli.numberofqubits method is deprecated as of 0.13.0, and will be removed no earlier than 3 months after that release date. You should use the Pauli.num_qubits method instead.\n",
      "  n_qubits = pauli[1].numberofqubits\n",
      "C:\\ProgramData\\Anaconda3\\lib\\site-packages\\qiskit\\aqua\\operators\\common.py:258: DeprecationWarning: The Pauli.numberofqubits method is deprecated as of 0.13.0, and will be removed no earlier than 3 months after that release date. You should use the Pauli.num_qubits method instead.\n",
      "  state_registers = QuantumRegister(pauli_list[0][1].numberofqubits)\n",
      "C:\\ProgramData\\Anaconda3\\lib\\site-packages\\qiskit\\aqua\\operators\\common.py:273: DeprecationWarning: The Pauli.numberofqubits method is deprecated as of 0.13.0, and will be removed no earlier than 3 months after that release date. You should use the Pauli.num_qubits method instead.\n",
      "  n_qubits = pauli[1].numberofqubits\n",
      "C:\\ProgramData\\Anaconda3\\lib\\site-packages\\qiskit\\aqua\\operators\\common.py:258: DeprecationWarning: The Pauli.numberofqubits method is deprecated as of 0.13.0, and will be removed no earlier than 3 months after that release date. You should use the Pauli.num_qubits method instead.\n",
      "  state_registers = QuantumRegister(pauli_list[0][1].numberofqubits)\n",
      "C:\\ProgramData\\Anaconda3\\lib\\site-packages\\qiskit\\aqua\\operators\\common.py:273: DeprecationWarning: The Pauli.numberofqubits method is deprecated as of 0.13.0, and will be removed no earlier than 3 months after that release date. You should use the Pauli.num_qubits method instead.\n",
      "  n_qubits = pauli[1].numberofqubits\n",
      "C:\\ProgramData\\Anaconda3\\lib\\site-packages\\qiskit\\aqua\\operators\\common.py:258: DeprecationWarning: The Pauli.numberofqubits method is deprecated as of 0.13.0, and will be removed no earlier than 3 months after that release date. You should use the Pauli.num_qubits method instead.\n",
      "  state_registers = QuantumRegister(pauli_list[0][1].numberofqubits)\n",
      "C:\\ProgramData\\Anaconda3\\lib\\site-packages\\qiskit\\aqua\\operators\\common.py:273: DeprecationWarning: The Pauli.numberofqubits method is deprecated as of 0.13.0, and will be removed no earlier than 3 months after that release date. You should use the Pauli.num_qubits method instead.\n",
      "  n_qubits = pauli[1].numberofqubits\n",
      "C:\\ProgramData\\Anaconda3\\lib\\site-packages\\qiskit\\aqua\\operators\\common.py:258: DeprecationWarning: The Pauli.numberofqubits method is deprecated as of 0.13.0, and will be removed no earlier than 3 months after that release date. You should use the Pauli.num_qubits method instead.\n",
      "  state_registers = QuantumRegister(pauli_list[0][1].numberofqubits)\n",
      "C:\\ProgramData\\Anaconda3\\lib\\site-packages\\qiskit\\aqua\\operators\\common.py:273: DeprecationWarning: The Pauli.numberofqubits method is deprecated as of 0.13.0, and will be removed no earlier than 3 months after that release date. You should use the Pauli.num_qubits method instead.\n",
      "  n_qubits = pauli[1].numberofqubits\n",
      "C:\\ProgramData\\Anaconda3\\lib\\site-packages\\qiskit\\aqua\\operators\\common.py:258: DeprecationWarning: The Pauli.numberofqubits method is deprecated as of 0.13.0, and will be removed no earlier than 3 months after that release date. You should use the Pauli.num_qubits method instead.\n",
      "  state_registers = QuantumRegister(pauli_list[0][1].numberofqubits)\n",
      "C:\\ProgramData\\Anaconda3\\lib\\site-packages\\qiskit\\aqua\\operators\\common.py:273: DeprecationWarning: The Pauli.numberofqubits method is deprecated as of 0.13.0, and will be removed no earlier than 3 months after that release date. You should use the Pauli.num_qubits method instead.\n",
      "  n_qubits = pauli[1].numberofqubits\n",
      "C:\\ProgramData\\Anaconda3\\lib\\site-packages\\qiskit\\aqua\\operators\\common.py:258: DeprecationWarning: The Pauli.numberofqubits method is deprecated as of 0.13.0, and will be removed no earlier than 3 months after that release date. You should use the Pauli.num_qubits method instead.\n",
      "  state_registers = QuantumRegister(pauli_list[0][1].numberofqubits)\n",
      "C:\\ProgramData\\Anaconda3\\lib\\site-packages\\qiskit\\aqua\\operators\\common.py:273: DeprecationWarning: The Pauli.numberofqubits method is deprecated as of 0.13.0, and will be removed no earlier than 3 months after that release date. You should use the Pauli.num_qubits method instead.\n",
      "  n_qubits = pauli[1].numberofqubits\n",
      "C:\\ProgramData\\Anaconda3\\lib\\site-packages\\qiskit\\aqua\\operators\\common.py:258: DeprecationWarning: The Pauli.numberofqubits method is deprecated as of 0.13.0, and will be removed no earlier than 3 months after that release date. You should use the Pauli.num_qubits method instead.\n",
      "  state_registers = QuantumRegister(pauli_list[0][1].numberofqubits)\n",
      "C:\\ProgramData\\Anaconda3\\lib\\site-packages\\qiskit\\aqua\\operators\\common.py:273: DeprecationWarning: The Pauli.numberofqubits method is deprecated as of 0.13.0, and will be removed no earlier than 3 months after that release date. You should use the Pauli.num_qubits method instead.\n",
      "  n_qubits = pauli[1].numberofqubits\n",
      "C:\\ProgramData\\Anaconda3\\lib\\site-packages\\qiskit\\aqua\\operators\\common.py:258: DeprecationWarning: The Pauli.numberofqubits method is deprecated as of 0.13.0, and will be removed no earlier than 3 months after that release date. You should use the Pauli.num_qubits method instead.\n",
      "  state_registers = QuantumRegister(pauli_list[0][1].numberofqubits)\n",
      "C:\\ProgramData\\Anaconda3\\lib\\site-packages\\qiskit\\aqua\\operators\\common.py:273: DeprecationWarning: The Pauli.numberofqubits method is deprecated as of 0.13.0, and will be removed no earlier than 3 months after that release date. You should use the Pauli.num_qubits method instead.\n",
      "  n_qubits = pauli[1].numberofqubits\n",
      "C:\\ProgramData\\Anaconda3\\lib\\site-packages\\qiskit\\aqua\\operators\\common.py:258: DeprecationWarning: The Pauli.numberofqubits method is deprecated as of 0.13.0, and will be removed no earlier than 3 months after that release date. You should use the Pauli.num_qubits method instead.\n",
      "  state_registers = QuantumRegister(pauli_list[0][1].numberofqubits)\n",
      "C:\\ProgramData\\Anaconda3\\lib\\site-packages\\qiskit\\aqua\\operators\\common.py:273: DeprecationWarning: The Pauli.numberofqubits method is deprecated as of 0.13.0, and will be removed no earlier than 3 months after that release date. You should use the Pauli.num_qubits method instead.\n",
      "  n_qubits = pauli[1].numberofqubits\n",
      "C:\\ProgramData\\Anaconda3\\lib\\site-packages\\qiskit\\aqua\\operators\\common.py:258: DeprecationWarning: The Pauli.numberofqubits method is deprecated as of 0.13.0, and will be removed no earlier than 3 months after that release date. You should use the Pauli.num_qubits method instead.\n",
      "  state_registers = QuantumRegister(pauli_list[0][1].numberofqubits)\n",
      "C:\\ProgramData\\Anaconda3\\lib\\site-packages\\qiskit\\aqua\\operators\\common.py:273: DeprecationWarning: The Pauli.numberofqubits method is deprecated as of 0.13.0, and will be removed no earlier than 3 months after that release date. You should use the Pauli.num_qubits method instead.\n",
      "  n_qubits = pauli[1].numberofqubits\n",
      "C:\\ProgramData\\Anaconda3\\lib\\site-packages\\qiskit\\aqua\\operators\\common.py:258: DeprecationWarning: The Pauli.numberofqubits method is deprecated as of 0.13.0, and will be removed no earlier than 3 months after that release date. You should use the Pauli.num_qubits method instead.\n",
      "  state_registers = QuantumRegister(pauli_list[0][1].numberofqubits)\n",
      "C:\\ProgramData\\Anaconda3\\lib\\site-packages\\qiskit\\aqua\\operators\\common.py:273: DeprecationWarning: The Pauli.numberofqubits method is deprecated as of 0.13.0, and will be removed no earlier than 3 months after that release date. You should use the Pauli.num_qubits method instead.\n",
      "  n_qubits = pauli[1].numberofqubits\n",
      "C:\\ProgramData\\Anaconda3\\lib\\site-packages\\qiskit\\aqua\\operators\\common.py:258: DeprecationWarning: The Pauli.numberofqubits method is deprecated as of 0.13.0, and will be removed no earlier than 3 months after that release date. You should use the Pauli.num_qubits method instead.\n",
      "  state_registers = QuantumRegister(pauli_list[0][1].numberofqubits)\n",
      "C:\\ProgramData\\Anaconda3\\lib\\site-packages\\qiskit\\aqua\\operators\\common.py:273: DeprecationWarning: The Pauli.numberofqubits method is deprecated as of 0.13.0, and will be removed no earlier than 3 months after that release date. You should use the Pauli.num_qubits method instead.\n",
      "  n_qubits = pauli[1].numberofqubits\n",
      "C:\\ProgramData\\Anaconda3\\lib\\site-packages\\qiskit\\aqua\\operators\\common.py:258: DeprecationWarning: The Pauli.numberofqubits method is deprecated as of 0.13.0, and will be removed no earlier than 3 months after that release date. You should use the Pauli.num_qubits method instead.\n",
      "  state_registers = QuantumRegister(pauli_list[0][1].numberofqubits)\n",
      "C:\\ProgramData\\Anaconda3\\lib\\site-packages\\qiskit\\aqua\\operators\\common.py:273: DeprecationWarning: The Pauli.numberofqubits method is deprecated as of 0.13.0, and will be removed no earlier than 3 months after that release date. You should use the Pauli.num_qubits method instead.\n",
      "  n_qubits = pauli[1].numberofqubits\n",
      "C:\\ProgramData\\Anaconda3\\lib\\site-packages\\qiskit\\aqua\\operators\\common.py:258: DeprecationWarning: The Pauli.numberofqubits method is deprecated as of 0.13.0, and will be removed no earlier than 3 months after that release date. You should use the Pauli.num_qubits method instead.\n",
      "  state_registers = QuantumRegister(pauli_list[0][1].numberofqubits)\n",
      "C:\\ProgramData\\Anaconda3\\lib\\site-packages\\qiskit\\aqua\\operators\\common.py:273: DeprecationWarning: The Pauli.numberofqubits method is deprecated as of 0.13.0, and will be removed no earlier than 3 months after that release date. You should use the Pauli.num_qubits method instead.\n",
      "  n_qubits = pauli[1].numberofqubits\n",
      "C:\\ProgramData\\Anaconda3\\lib\\site-packages\\qiskit\\aqua\\operators\\common.py:258: DeprecationWarning: The Pauli.numberofqubits method is deprecated as of 0.13.0, and will be removed no earlier than 3 months after that release date. You should use the Pauli.num_qubits method instead.\n",
      "  state_registers = QuantumRegister(pauli_list[0][1].numberofqubits)\n",
      "C:\\ProgramData\\Anaconda3\\lib\\site-packages\\qiskit\\aqua\\operators\\common.py:273: DeprecationWarning: The Pauli.numberofqubits method is deprecated as of 0.13.0, and will be removed no earlier than 3 months after that release date. You should use the Pauli.num_qubits method instead.\n",
      "  n_qubits = pauli[1].numberofqubits\n",
      "C:\\ProgramData\\Anaconda3\\lib\\site-packages\\qiskit\\aqua\\operators\\common.py:258: DeprecationWarning: The Pauli.numberofqubits method is deprecated as of 0.13.0, and will be removed no earlier than 3 months after that release date. You should use the Pauli.num_qubits method instead.\n",
      "  state_registers = QuantumRegister(pauli_list[0][1].numberofqubits)\n",
      "C:\\ProgramData\\Anaconda3\\lib\\site-packages\\qiskit\\aqua\\operators\\common.py:273: DeprecationWarning: The Pauli.numberofqubits method is deprecated as of 0.13.0, and will be removed no earlier than 3 months after that release date. You should use the Pauli.num_qubits method instead.\n",
      "  n_qubits = pauli[1].numberofqubits\n",
      "C:\\ProgramData\\Anaconda3\\lib\\site-packages\\qiskit\\aqua\\operators\\common.py:258: DeprecationWarning: The Pauli.numberofqubits method is deprecated as of 0.13.0, and will be removed no earlier than 3 months after that release date. You should use the Pauli.num_qubits method instead.\n",
      "  state_registers = QuantumRegister(pauli_list[0][1].numberofqubits)\n",
      "C:\\ProgramData\\Anaconda3\\lib\\site-packages\\qiskit\\aqua\\operators\\common.py:273: DeprecationWarning: The Pauli.numberofqubits method is deprecated as of 0.13.0, and will be removed no earlier than 3 months after that release date. You should use the Pauli.num_qubits method instead.\n",
      "  n_qubits = pauli[1].numberofqubits\n",
      "C:\\ProgramData\\Anaconda3\\lib\\site-packages\\qiskit\\aqua\\operators\\common.py:258: DeprecationWarning: The Pauli.numberofqubits method is deprecated as of 0.13.0, and will be removed no earlier than 3 months after that release date. You should use the Pauli.num_qubits method instead.\n",
      "  state_registers = QuantumRegister(pauli_list[0][1].numberofqubits)\n",
      "C:\\ProgramData\\Anaconda3\\lib\\site-packages\\qiskit\\aqua\\operators\\common.py:273: DeprecationWarning: The Pauli.numberofqubits method is deprecated as of 0.13.0, and will be removed no earlier than 3 months after that release date. You should use the Pauli.num_qubits method instead.\n",
      "  n_qubits = pauli[1].numberofqubits\n"
     ]
    }
   ],
   "source": [
    "feature_dim = 2 # dimension of each data point\n",
    "training_dataset_size = 20\n",
    "testing_dataset_size = 10\n",
    "random_seed = 10598\n",
    "shots = 1024\n",
    "num_qubits = 2\n",
    "\n",
    "sample_Total, training_input, test_input, class_labels = breast_cancer(\n",
    "    training_size=training_dataset_size, \n",
    "    test_size=testing_dataset_size, \n",
    "    n=feature_dim, plot_data=True\n",
    ")\n",
    "datapoints, class_to_label = split_dataset_to_data_and_labels(test_input)\n",
    "print(class_to_label)\n",
    "\n",
    "backend = BasicAer.get_backend('qasm_simulator')\n",
    "feature_map = SecondOrderExpansion(feature_dimension=feature_dim, depth=2, entangler_map=[[0, 1]])\n",
    "svm = QSVM(feature_map, training_input, test_input, None)# the data for prediction can be fed later.\n",
    "svm.random_seed = random_seed\n",
    "quantum_instance = QuantumInstance(backend, shots=shots, seed_simulator=random_seed, seed_transpiler=random_seed)\n",
    "result = svm.run(quantum_instance)"
   ]
  },
  {
   "cell_type": "code",
   "execution_count": 5,
   "metadata": {},
   "outputs": [
    {
     "name": "stdout",
     "output_type": "stream",
     "text": [
      "kernel matrix during the training:\n"
     ]
    },
    {
     "data": {
      "image/png": "[encoded data removed]",
      "text/plain": [
       "<Figure size 432x288 with 1 Axes>"
      ]
     },
     "metadata": {
      "needs_background": "light"
     },
     "output_type": "display_data"
    },
    {
     "name": "stdout",
     "output_type": "stream",
     "text": [
      "testing success ratio:  0.8\n"
     ]
    }
   ],
   "source": [
    "print(\"kernel matrix during the training:\")\n",
    "kernel_matrix = result['kernel_matrix_training']\n",
    "img = plt.imshow(np.asmatrix(kernel_matrix),interpolation='nearest',origin='upper',cmap='bone_r')\n",
    "plt.show()\n",
    "#data= np.asmatrix(kernel_matrix)\n",
    "print(\"testing success ratio: \", result['testing_accuracy'])"
   ]
  },
  {
   "cell_type": "code",
   "execution_count": 6,
   "metadata": {},
   "outputs": [
    {
     "name": "stderr",
     "output_type": "stream",
     "text": [
      "C:\\ProgramData\\Anaconda3\\lib\\site-packages\\qiskit\\aqua\\operators\\common.py:258: DeprecationWarning: The Pauli.numberofqubits method is deprecated as of 0.13.0, and will be removed no earlier than 3 months after that release date. You should use the Pauli.num_qubits method instead.\n",
      "  state_registers = QuantumRegister(pauli_list[0][1].numberofqubits)\n",
      "C:\\ProgramData\\Anaconda3\\lib\\site-packages\\qiskit\\aqua\\operators\\common.py:273: DeprecationWarning: The Pauli.numberofqubits method is deprecated as of 0.13.0, and will be removed no earlier than 3 months after that release date. You should use the Pauli.num_qubits method instead.\n",
      "  n_qubits = pauli[1].numberofqubits\n",
      "C:\\ProgramData\\Anaconda3\\lib\\site-packages\\qiskit\\aqua\\operators\\common.py:258: DeprecationWarning: The Pauli.numberofqubits method is deprecated as of 0.13.0, and will be removed no earlier than 3 months after that release date. You should use the Pauli.num_qubits method instead.\n",
      "  state_registers = QuantumRegister(pauli_list[0][1].numberofqubits)\n",
      "C:\\ProgramData\\Anaconda3\\lib\\site-packages\\qiskit\\aqua\\operators\\common.py:273: DeprecationWarning: The Pauli.numberofqubits method is deprecated as of 0.13.0, and will be removed no earlier than 3 months after that release date. You should use the Pauli.num_qubits method instead.\n",
      "  n_qubits = pauli[1].numberofqubits\n",
      "C:\\ProgramData\\Anaconda3\\lib\\site-packages\\qiskit\\aqua\\operators\\common.py:258: DeprecationWarning: The Pauli.numberofqubits method is deprecated as of 0.13.0, and will be removed no earlier than 3 months after that release date. You should use the Pauli.num_qubits method instead.\n",
      "  state_registers = QuantumRegister(pauli_list[0][1].numberofqubits)\n",
      "C:\\ProgramData\\Anaconda3\\lib\\site-packages\\qiskit\\aqua\\operators\\common.py:273: DeprecationWarning: The Pauli.numberofqubits method is deprecated as of 0.13.0, and will be removed no earlier than 3 months after that release date. You should use the Pauli.num_qubits method instead.\n",
      "  n_qubits = pauli[1].numberofqubits\n",
      "C:\\ProgramData\\Anaconda3\\lib\\site-packages\\qiskit\\aqua\\operators\\common.py:258: DeprecationWarning: The Pauli.numberofqubits method is deprecated as of 0.13.0, and will be removed no earlier than 3 months after that release date. You should use the Pauli.num_qubits method instead.\n",
      "  state_registers = QuantumRegister(pauli_list[0][1].numberofqubits)\n",
      "C:\\ProgramData\\Anaconda3\\lib\\site-packages\\qiskit\\aqua\\operators\\common.py:273: DeprecationWarning: The Pauli.numberofqubits method is deprecated as of 0.13.0, and will be removed no earlier than 3 months after that release date. You should use the Pauli.num_qubits method instead.\n",
      "  n_qubits = pauli[1].numberofqubits\n",
      "C:\\ProgramData\\Anaconda3\\lib\\site-packages\\qiskit\\aqua\\operators\\common.py:258: DeprecationWarning: The Pauli.numberofqubits method is deprecated as of 0.13.0, and will be removed no earlier than 3 months after that release date. You should use the Pauli.num_qubits method instead.\n",
      "  state_registers = QuantumRegister(pauli_list[0][1].numberofqubits)\n",
      "C:\\ProgramData\\Anaconda3\\lib\\site-packages\\qiskit\\aqua\\operators\\common.py:273: DeprecationWarning: The Pauli.numberofqubits method is deprecated as of 0.13.0, and will be removed no earlier than 3 months after that release date. You should use the Pauli.num_qubits method instead.\n",
      "  n_qubits = pauli[1].numberofqubits\n",
      "C:\\ProgramData\\Anaconda3\\lib\\site-packages\\qiskit\\aqua\\operators\\common.py:258: DeprecationWarning: The Pauli.numberofqubits method is deprecated as of 0.13.0, and will be removed no earlier than 3 months after that release date. You should use the Pauli.num_qubits method instead.\n",
      "  state_registers = QuantumRegister(pauli_list[0][1].numberofqubits)\n",
      "C:\\ProgramData\\Anaconda3\\lib\\site-packages\\qiskit\\aqua\\operators\\common.py:273: DeprecationWarning: The Pauli.numberofqubits method is deprecated as of 0.13.0, and will be removed no earlier than 3 months after that release date. You should use the Pauli.num_qubits method instead.\n",
      "  n_qubits = pauli[1].numberofqubits\n",
      "C:\\ProgramData\\Anaconda3\\lib\\site-packages\\qiskit\\aqua\\operators\\common.py:258: DeprecationWarning: The Pauli.numberofqubits method is deprecated as of 0.13.0, and will be removed no earlier than 3 months after that release date. You should use the Pauli.num_qubits method instead.\n",
      "  state_registers = QuantumRegister(pauli_list[0][1].numberofqubits)\n",
      "C:\\ProgramData\\Anaconda3\\lib\\site-packages\\qiskit\\aqua\\operators\\common.py:273: DeprecationWarning: The Pauli.numberofqubits method is deprecated as of 0.13.0, and will be removed no earlier than 3 months after that release date. You should use the Pauli.num_qubits method instead.\n",
      "  n_qubits = pauli[1].numberofqubits\n",
      "C:\\ProgramData\\Anaconda3\\lib\\site-packages\\qiskit\\aqua\\operators\\common.py:258: DeprecationWarning: The Pauli.numberofqubits method is deprecated as of 0.13.0, and will be removed no earlier than 3 months after that release date. You should use the Pauli.num_qubits method instead.\n",
      "  state_registers = QuantumRegister(pauli_list[0][1].numberofqubits)\n",
      "C:\\ProgramData\\Anaconda3\\lib\\site-packages\\qiskit\\aqua\\operators\\common.py:273: DeprecationWarning: The Pauli.numberofqubits method is deprecated as of 0.13.0, and will be removed no earlier than 3 months after that release date. You should use the Pauli.num_qubits method instead.\n",
      "  n_qubits = pauli[1].numberofqubits\n",
      "C:\\ProgramData\\Anaconda3\\lib\\site-packages\\qiskit\\aqua\\operators\\common.py:258: DeprecationWarning: The Pauli.numberofqubits method is deprecated as of 0.13.0, and will be removed no earlier than 3 months after that release date. You should use the Pauli.num_qubits method instead.\n",
      "  state_registers = QuantumRegister(pauli_list[0][1].numberofqubits)\n",
      "C:\\ProgramData\\Anaconda3\\lib\\site-packages\\qiskit\\aqua\\operators\\common.py:273: DeprecationWarning: The Pauli.numberofqubits method is deprecated as of 0.13.0, and will be removed no earlier than 3 months after that release date. You should use the Pauli.num_qubits method instead.\n",
      "  n_qubits = pauli[1].numberofqubits\n",
      "C:\\ProgramData\\Anaconda3\\lib\\site-packages\\qiskit\\aqua\\operators\\common.py:258: DeprecationWarning: The Pauli.numberofqubits method is deprecated as of 0.13.0, and will be removed no earlier than 3 months after that release date. You should use the Pauli.num_qubits method instead.\n",
      "  state_registers = QuantumRegister(pauli_list[0][1].numberofqubits)\n",
      "C:\\ProgramData\\Anaconda3\\lib\\site-packages\\qiskit\\aqua\\operators\\common.py:273: DeprecationWarning: The Pauli.numberofqubits method is deprecated as of 0.13.0, and will be removed no earlier than 3 months after that release date. You should use the Pauli.num_qubits method instead.\n",
      "  n_qubits = pauli[1].numberofqubits\n",
      "C:\\ProgramData\\Anaconda3\\lib\\site-packages\\qiskit\\aqua\\operators\\common.py:258: DeprecationWarning: The Pauli.numberofqubits method is deprecated as of 0.13.0, and will be removed no earlier than 3 months after that release date. You should use the Pauli.num_qubits method instead.\n",
      "  state_registers = QuantumRegister(pauli_list[0][1].numberofqubits)\n",
      "C:\\ProgramData\\Anaconda3\\lib\\site-packages\\qiskit\\aqua\\operators\\common.py:273: DeprecationWarning: The Pauli.numberofqubits method is deprecated as of 0.13.0, and will be removed no earlier than 3 months after that release date. You should use the Pauli.num_qubits method instead.\n",
      "  n_qubits = pauli[1].numberofqubits\n",
      "C:\\ProgramData\\Anaconda3\\lib\\site-packages\\qiskit\\aqua\\operators\\common.py:258: DeprecationWarning: The Pauli.numberofqubits method is deprecated as of 0.13.0, and will be removed no earlier than 3 months after that release date. You should use the Pauli.num_qubits method instead.\n",
      "  state_registers = QuantumRegister(pauli_list[0][1].numberofqubits)\n",
      "C:\\ProgramData\\Anaconda3\\lib\\site-packages\\qiskit\\aqua\\operators\\common.py:273: DeprecationWarning: The Pauli.numberofqubits method is deprecated as of 0.13.0, and will be removed no earlier than 3 months after that release date. You should use the Pauli.num_qubits method instead.\n",
      "  n_qubits = pauli[1].numberofqubits\n"
     ]
    },
    {
     "name": "stdout",
     "output_type": "stream",
     "text": [
      "ground truth: [0 0 0 0 0 0 0 0 0 0 1 1 1 1 1 1 1 1 1 1]\n",
      "prediction:   [0 1 0 0 0 0 0 0 1 0 1 1 1 1 0 0 1 1 1 1]\n"
     ]
    }
   ],
   "source": [
    "predicted_labels = svm.predict(datapoints[0])\n",
    "\n",
    "predicted_classes = map_label_to_class_name(predicted_labels, svm.label_to_class)\n",
    "print(\"ground truth: {}\".format(datapoints[1]))\n",
    "print(\"prediction:   {}\".format(predicted_labels))"
   ]
  },
  {
   "cell_type": "code",
   "execution_count": null,
   "metadata": {},
   "outputs": [],
   "source": []
  }
 ],
 "metadata": {
  "kernelspec": {
   "display_name": "Python 3",
   "language": "python",
   "name": "python3"
  },
  "language_info": {
   "codemirror_mode": {
    "name": "ipython",
    "version": 3
   },
   "file_extension": ".py",
   "mimetype": "text/x-python",
   "name": "python",
   "nbconvert_exporter": "python",
   "pygments_lexer": "ipython3",
   "version": "3.8.2"
  }
 },
 "nbformat": 4,
 "nbformat_minor": 4
}
