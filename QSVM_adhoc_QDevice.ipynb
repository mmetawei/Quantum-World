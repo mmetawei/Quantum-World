{
 "cells": [
  {
   "cell_type": "code",
   "execution_count": 26,
   "metadata": {},
   "outputs": [],
   "source": [
    "import numpy as np\n",
    "import matplotlib.pyplot as plt\n",
    "from qiskit.ml.datasets import *\n",
    "from qiskit import BasicAer\n",
    "from qiskit.aqua import QuantumInstance\n",
    "from qiskit.aqua.components.feature_maps import SecondOrderExpansion\n",
    "from qiskit.aqua.algorithms import QSVM\n",
    "from qiskit.aqua.utils import split_dataset_to_data_and_labels, map_label_to_class_name\n",
    "from qiskit.providers.ibmq import least_busy"
   ]
  },
  {
   "cell_type": "code",
   "execution_count": 27,
   "metadata": {},
   "outputs": [],
   "source": [
    "from qiskit import IBMQ\n",
    "import warnings\n",
    "\n",
    "def fxn():\n",
    "    warnings.warn(\"deprecated\", DeprecationWarning)\n",
    "\n",
    "with warnings.catch_warnings():\n",
    "    warnings.simplefilter(\"ignore\")\n",
    "    fxn()"
   ]
  },
  {
   "cell_type": "code",
   "execution_count": 28,
   "metadata": {
    "scrolled": true
   },
   "outputs": [
    {
     "name": "stderr",
     "output_type": "stream",
     "text": [
      "configrc.store_credentials:WARNING:2020-05-16 21:25:25,829: Credentials already present. Set overwrite=True to overwrite.\n"
     ]
    },
    {
     "name": "stdout",
     "output_type": "stream",
     "text": [
      "Found 1 credentials.\n",
      "No credentials available for updating could be found. No action will be performed.\n",
      "Warnings:\n",
      "The stored account with url \"https://auth.quantum-computing.ibm.com/api\" is already an IBM Q Experience v2 account.\n"
     ]
    },
    {
     "name": "stderr",
     "output_type": "stream",
     "text": [
      "ibmqfactory.load_account:WARNING:2020-05-16 21:25:26,764: Credentials are already in use. The existing account in the session will be replaced.\n"
     ]
    }
   ],
   "source": [
    "token = 'PUT_YOUR_IBMQ_TOKEN_HERE'\n",
    "IBMQ.save_account(token)\n",
    "IBMQ.update_account()\n",
    "provider = IBMQ.load_account()"
   ]
  },
  {
   "cell_type": "code",
   "execution_count": 29,
   "metadata": {},
   "outputs": [
    {
     "data": {
      "image/png": "[encoded data removed]",
      "text/plain": [
       "<Figure size 432x288 with 1 Axes>"
      ]
     },
     "metadata": {
      "needs_background": "light"
     },
     "output_type": "display_data"
    },
    {
     "name": "stderr",
     "output_type": "stream",
     "text": [
      "<ipython-input-29-46442b4e0d76>:18: DeprecationWarning: The qiskit.aqua.components.feature_maps.SecondOrderExpansion object is deprecated as of 0.7.0 and will be removed no sooner than 3 months after the release. You should use qiskit.circuit.library.ZZFeatureMap instead.\n",
      "  feature_map = SecondOrderExpansion(feature_dimension=feature_dim, depth=2, entangler_map=[[0, 1]])\n",
      "c:\\users\\user\\.conda\\envs\\qiskit_may2020\\lib\\site-packages\\qiskit\\aqua\\components\\feature_maps\\second_order_expansion.py:58: DeprecationWarning: The qiskit.aqua.components.feature_maps.PauliZExpansion class is deprecated as of 0.7.0 and will be removed no sooner than 3 months after the release. You should use qiskit.circuit.library.PauliFeatureMap instead.\n",
      "  super().__init__(feature_dimension, depth, entangler_map, entanglement,\n",
      "c:\\users\\user\\.conda\\envs\\qiskit_may2020\\lib\\site-packages\\qiskit\\aqua\\components\\feature_maps\\pauli_z_expansion.py:70: DeprecationWarning: The qiskit.aqua.components.feature_maps.PauliExpansion object is deprecated as of 0.7.0 and will be removed no sooner than 3 months after the release. You should use qiskit.circuit.library.PauliFeatureMap instead.\n",
      "  super().__init__(feature_dimension, depth, entangler_map, entanglement,\n",
      "<ipython-input-29-46442b4e0d76>:19: DeprecationWarning: \n",
      "                The <class 'qiskit.aqua.components.feature_maps.second_order_expansion.SecondOrderExpansion'> object as input for the QSVM is deprecated as of 0.7.0 and will\n",
      "                be removed no earlier than 3 months after the release.\n",
      "                You should pass a QuantumCircuit object instead.\n",
      "                See also qiskit.circuit.library.data_preparation for a collection\n",
      "                of suitable circuits.\n",
      "  svm = QSVM(feature_map, training_input, test_input, None)# the data for prediction can be fed later.\n",
      "The skip Qobj validation does not work for IBMQ provider. Disable it.\n"
     ]
    },
    {
     "name": "stdout",
     "output_type": "stream",
     "text": [
      "{'A': 0, 'B': 1}\n"
     ]
    },
    {
     "name": "stderr",
     "output_type": "stream",
     "text": [
      "FAILURE: Can not get job id, Resubmit the qobj to get job id. Terra job error: \"Error submitting job: '400 Client Error: Bad Request for url: https://api.quantum-computing.ibm.com/api/Network/ibm-q/Groups/open/Projects/main/Jobs. Reached maximum number (5) of concurrent jobs, Error code: 3458.'\" \n",
      "Job limit reached, waiting for job 5ec03e407f844000193c770d to finish before submitting the next one.\n",
      "FAILURE: Job id: 5ec03e4e70383c001b93c38d is cancelled. Re-submit the Qobj.\n",
      "FAILURE: Job id: 5ec03e52a7438f001911d0c0 is cancelled. Re-submit the Qobj.\n",
      "FAILURE: Job id: 5ec03e5583f02c001a45df61 is cancelled. Re-submit the Qobj.\n",
      "FAILURE: Job id: 5ec03e5c7951d9001de1c1b2 is cancelled. Re-submit the Qobj.\n",
      "FAILURE: Job id: 5ec03e78a7438f001911d0c2 is cancelled. Re-submit the Qobj.\n",
      "FAILURE: Job id: 5ec03e7ce7b9c30019e0cdef is cancelled. Re-submit the Qobj.\n"
     ]
    }
   ],
   "source": [
    "feature_dim = 2 # dimension of each data point\n",
    "training_dataset_size = 20\n",
    "testing_dataset_size = 10\n",
    "random_seed = 10598\n",
    "shots = 1024\n",
    "num_qubits = 2\n",
    "\n",
    "sample_Total, training_input, test_input, class_labels = ad_hoc_data(\n",
    "    training_size=training_dataset_size, \n",
    "    test_size=testing_dataset_size, \n",
    "    n=feature_dim, gap=0.3,plot_data=True\n",
    ")\n",
    "datapoints, class_to_label = split_dataset_to_data_and_labels(test_input)\n",
    "print(class_to_label)\n",
    "\n",
    "backend = provider.get_backend('ibmq_5_yorktown')\n",
    "#backend = BasicAer.get_backend('qasm_simulator')\n",
    "feature_map = SecondOrderExpansion(feature_dimension=feature_dim, depth=2, entangler_map=[[0, 1]])\n",
    "svm = QSVM(feature_map, training_input, test_input, None)# the data for prediction can be fed later.\n",
    "svm.random_seed = random_seed\n",
    "quantum_instance = QuantumInstance(backend, shots=shots, seed_simulator=random_seed, seed_transpiler=random_seed)\n",
    "result = svm.run(quantum_instance)"
   ]
  },
  {
   "cell_type": "code",
   "execution_count": 30,
   "metadata": {},
   "outputs": [
    {
     "name": "stdout",
     "output_type": "stream",
     "text": [
      "kernel matrix during the training:\n"
     ]
    },
    {
     "data": {
      "image/png": "[encoded data removed]",
      "text/plain": [
       "<Figure size 432x288 with 1 Axes>"
      ]
     },
     "metadata": {
      "needs_background": "light"
     },
     "output_type": "display_data"
    },
    {
     "name": "stdout",
     "output_type": "stream",
     "text": [
      "testing success ratio:  0.95\n"
     ]
    }
   ],
   "source": [
    "print(\"kernel matrix during the training:\")\n",
    "kernel_matrix = result['kernel_matrix_training']\n",
    "img = plt.imshow(np.asmatrix(kernel_matrix),interpolation='nearest',origin='upper',cmap='bone_r')\n",
    "#X, y = make_blobs(n_samples=50, centers=2,random_state=0, cluster_std=0.60)\n",
    "#plt.scatter(X[:, 0], X[:, 1], c=y, s=50, cmap='autumn');\n",
    "plt.show()\n",
    "#data= np.asmatrix(kernel_matrix)\n",
    "print(\"testing success ratio: \", result['testing_accuracy'])"
   ]
  },
  {
   "cell_type": "code",
   "execution_count": 31,
   "metadata": {},
   "outputs": [
    {
     "name": "stdout",
     "output_type": "stream",
     "text": [
      "ground truth: [0 0 0 0 0 0 0 0 0 0 1 1 1 1 1 1 1 1 1 1]\n",
      "prediction:   [0 0 0 0 0 0 0 0 0 0 1 1 1 1 1 1 1 1 0 1]\n"
     ]
    }
   ],
   "source": [
    "predicted_labels = svm.predict(datapoints[0])\n",
    "\n",
    "predicted_classes = map_label_to_class_name(predicted_labels, svm.label_to_class)\n",
    "print(\"ground truth: {}\".format(datapoints[1]))\n",
    "print(\"prediction:   {}\".format(predicted_labels))"
   ]
  },
  {
   "cell_type": "code",
   "execution_count": null,
   "metadata": {},
   "outputs": [],
   "source": []
  }
 ],
 "metadata": {
  "kernelspec": {
   "display_name": "Python 3",
   "language": "python",
   "name": "python3"
  },
  "language_info": {
   "codemirror_mode": {
    "name": "ipython",
    "version": 3
   },
   "file_extension": ".py",
   "mimetype": "text/x-python",
   "name": "python",
   "nbconvert_exporter": "python",
   "pygments_lexer": "ipython3",
   "version": "3.8.2"
  }
 },
 "nbformat": 4,
 "nbformat_minor": 4
}
