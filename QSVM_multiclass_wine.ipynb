{
 "cells": [
  {
   "cell_type": "code",
   "execution_count": 7,
   "metadata": {},
   "outputs": [
    {
     "name": "stderr",
     "output_type": "stream",
     "text": [
      "ibmqfactory.load_account:WARNING:2020-05-14 03:28:53,898: Credentials are already in use. The existing account in the session will be replaced.\n",
      "c:\\users\\user\\.conda\\envs\\qiskit_may2020\\lib\\site-packages\\sklearn\\utils\\validation.py:68: FutureWarning: Pass return_X_y=True as keyword args. From version 0.25 passing these as positional arguments will result in an error\n",
      "  warnings.warn(\"Pass {} as keyword args. From version 0.25 \"\n"
     ]
    },
    {
     "data": {
      "image/png": "[encoded data removed]",
      "text/plain": [
       "<Figure size 432x288 with 1 Axes>"
      ]
     },
     "metadata": {
      "needs_background": "light"
     },
     "output_type": "display_data"
    },
    {
     "name": "stdout",
     "output_type": "stream",
     "text": [
      "{'A': 0, 'B': 1, 'C': 2}\n",
      "'testing_accuracy' : 0.9\n",
      "'test_success_ratio' : 0.9\n",
      "'predicted_labels' : [0 0 1 1 1 2 2 0 2 2]\n",
      "'predicted_classes' : ['A', 'A', 'B', 'B', 'B', 'C', 'C', 'A', 'C', 'C']\n",
      "ground truth: [0 0 1 1 1 2 2 2 2 2]\n",
      "prediction:   [0 0 1 1 1 2 2 0 2 2]\n"
     ]
    }
   ],
   "source": [
    "\n",
    "import numpy as np\n",
    "from qiskit.ml.datasets import wine\n",
    "from qiskit import BasicAer\n",
    "from qiskit.aqua import QuantumInstance, aqua_globals\n",
    "#from qiskit.aqua.components.feature_maps import SecondOrderExpansion\n",
    "from qiskit.circuit.library import ZZFeatureMap\n",
    "from qiskit.aqua.algorithms import QSVM\n",
    "from qiskit.aqua.components.multiclass_extensions import AllPairs\n",
    "from qiskit.aqua.utils.dataset_helper import get_feature_dimension\n",
    "from qiskit.aqua.utils import split_dataset_to_data_and_labels, map_label_to_class_name\n",
    "from qiskit.aqua.algorithms.amplitude_estimators.q_factory import QFactory\n",
    "\n",
    "from qiskit import IBMQ\n",
    "\n",
    "n = 2  # dimension of each data point\n",
    "IBMQ.load_account()\n",
    "\n",
    "sample_Total, training_input, test_input, class_labels = wine(\n",
    "    training_size=40,\n",
    "    test_size=10, n=n, plot_data=True\n",
    ")\n",
    "datapoints, class_to_label = split_dataset_to_data_and_labels(test_input)\n",
    "print(class_to_label)\n",
    "\n",
    "temp = [test_input[k] for k in test_input]\n",
    "total_array = np.concatenate(temp)\n",
    "\n",
    "aqua_globals.random_seed = 10598\n",
    "\n",
    "backend = BasicAer.get_backend('qasm_simulator')\n",
    "feature_map = ZZFeatureMap(feature_dimension=get_feature_dimension(training_input))\n",
    "svm = QSVM(feature_map, training_input, test_input, total_array,\n",
    "          multiclass_extension=AllPairs())\n",
    "quantum_instance = QuantumInstance(backend, shots=1024,\n",
    "                                    seed_simulator=aqua_globals.random_seed,\n",
    "                                    seed_transpiler=aqua_globals.random_seed)\n",
    "\n",
    "result = svm.run(quantum_instance)\n",
    "for k,v in result.items():\n",
    "    print(\"'{}' : {}\".format(k, v))\n",
    "    \n",
    "predicted_labels = svm.predict(datapoints[0])\n",
    "\n",
    "predicted_classes = map_label_to_class_name(predicted_labels, svm.label_to_class)\n",
    "print(\"ground truth: {}\".format(datapoints[1]))\n",
    "print(\"prediction:   {}\".format(predicted_labels))\n"
   ]
  }
 ],
 "metadata": {
  "kernelspec": {
   "display_name": "Python 3",
   "language": "python",
   "name": "python3"
  },
  "language_info": {
   "codemirror_mode": {
    "name": "ipython",
    "version": 3
   },
   "file_extension": ".py",
   "mimetype": "text/x-python",
   "name": "python",
   "nbconvert_exporter": "python",
   "pygments_lexer": "ipython3",
   "version": "3.8.2"
  }
 },
 "nbformat": 4,
 "nbformat_minor": 4
}
